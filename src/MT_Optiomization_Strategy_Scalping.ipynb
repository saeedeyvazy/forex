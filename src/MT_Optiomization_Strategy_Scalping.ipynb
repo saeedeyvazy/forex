{
 "cells": [
  {
   "cell_type": "markdown",
   "metadata": {},
   "source": [
    "### 1 - Import test data"
   ]
  },
  {
   "cell_type": "code",
   "execution_count": 1,
   "metadata": {
    "ExecuteTime": {
     "end_time": "2024-08-17T11:56:04.909585300Z",
     "start_time": "2024-08-17T11:55:59.921126400Z"
    }
   },
   "outputs": [
    {
     "name": "stderr",
     "output_type": "stream",
     "text": [
      "C:\\Users\\S.Eyvazi\\AppData\\Local\\Temp\\ipykernel_3900\\3633356274.py:4: ParserWarning: Falling back to the 'python' engine because the 'c' engine does not support regex separators (separators > 1 char and different from '\\s+' are interpreted as regex); you can avoid this warning by specifying engine='python'.\n",
      "  df = pd.read_csv('downloads/mt/EURUSD_M5_202205090005_202209302350.csv', sep=\"\\\\t\")\n"
     ]
    }
   ],
   "source": [
    "import pandas as pd\n",
    "import pandas_ta as ta\n",
    "\n",
    "df = pd.read_csv('downloads/mt/EURUSD_M5_202205090005_202209302350.csv', sep=\"\\\\t\")\n",
    "df['Gmt time'] = df['<DATE>'] + ' ' + df['<TIME>']\n",
    "df.rename(columns={'<CLOSE>' : 'Close', '<HIGH>': 'High', '<OPEN>' : 'Open', '<LOW>':'Low'}, inplace=True)\n",
    "df[\"Gmt time\"]=df[\"Gmt time\"].str.replace(\".000\",\"\")\n",
    "df['Gmt time']=pd.to_datetime(df['Gmt time'],format='%Y.%m.%d %H:%M:%S')\n",
    "df=df[df.High!=df.Low]\n",
    "df.set_index(\"Gmt time\", inplace=True)"
   ]
  },
  {
   "cell_type": "code",
   "execution_count": 2,
   "metadata": {
    "ExecuteTime": {
     "end_time": "2024-08-17T11:56:10.730356100Z",
     "start_time": "2024-08-17T11:56:10.704389900Z"
    }
   },
   "outputs": [],
   "source": [
    "df[\"EMA_slow\"]=ta.ema(df.Close, length=50)\n",
    "df[\"EMA_fast\"]=ta.ema(df.Close, length=30)\n",
    "df['RSI']=ta.rsi(df.Close, length=10)\n",
    "my_bbands = ta.bbands(df.Close, length=15, std=1.5)\n",
    "df['ATR']=ta.atr(df.High, df.Low, df.Close, length=7)\n",
    "df=df.join(my_bbands)\n"
   ]
  },
  {
   "cell_type": "code",
   "execution_count": 3,
   "outputs": [
    {
     "data": {
      "text/plain": "                         <DATE>    <TIME>     Open     High      Low    Close  \\\nGmt time                                                                        \n2022-05-09 00:05:00  2022.05.09  00:05:00  1.05400  1.05425  1.05395  1.05407   \n2022-05-09 00:10:00  2022.05.09  00:10:00  1.05407  1.05425  1.05403  1.05417   \n2022-05-09 00:15:00  2022.05.09  00:15:00  1.05418  1.05424  1.05389  1.05420   \n2022-05-09 00:20:00  2022.05.09  00:20:00  1.05390  1.05424  1.05385  1.05420   \n2022-05-09 00:25:00  2022.05.09  00:25:00  1.05391  1.05421  1.05387  1.05399   \n\n                     <TICKVOL>  <VOL>  <SPREAD>  EMA_slow  EMA_fast  RSI  ATR  \\\nGmt time                                                                        \n2022-05-09 00:05:00         34      0        52       NaN       NaN  NaN  NaN   \n2022-05-09 00:10:00         20      0        65       NaN       NaN  NaN  NaN   \n2022-05-09 00:15:00         37      0        13       NaN       NaN  NaN  NaN   \n2022-05-09 00:20:00         26      0        25       NaN       NaN  NaN  NaN   \n2022-05-09 00:25:00         32      0        32       NaN       NaN  NaN  NaN   \n\n                     BBL_15_1.5  BBM_15_1.5  BBU_15_1.5  BBB_15_1.5  \\\nGmt time                                                              \n2022-05-09 00:05:00         NaN         NaN         NaN         NaN   \n2022-05-09 00:10:00         NaN         NaN         NaN         NaN   \n2022-05-09 00:15:00         NaN         NaN         NaN         NaN   \n2022-05-09 00:20:00         NaN         NaN         NaN         NaN   \n2022-05-09 00:25:00         NaN         NaN         NaN         NaN   \n\n                     BBP_15_1.5  \nGmt time                         \n2022-05-09 00:05:00         NaN  \n2022-05-09 00:10:00         NaN  \n2022-05-09 00:15:00         NaN  \n2022-05-09 00:20:00         NaN  \n2022-05-09 00:25:00         NaN  ",
      "text/html": "<div>\n<style scoped>\n    .dataframe tbody tr th:only-of-type {\n        vertical-align: middle;\n    }\n\n    .dataframe tbody tr th {\n        vertical-align: top;\n    }\n\n    .dataframe thead th {\n        text-align: right;\n    }\n</style>\n<table border=\"1\" class=\"dataframe\">\n  <thead>\n    <tr style=\"text-align: right;\">\n      <th></th>\n      <th>&lt;DATE&gt;</th>\n      <th>&lt;TIME&gt;</th>\n      <th>Open</th>\n      <th>High</th>\n      <th>Low</th>\n      <th>Close</th>\n      <th>&lt;TICKVOL&gt;</th>\n      <th>&lt;VOL&gt;</th>\n      <th>&lt;SPREAD&gt;</th>\n      <th>EMA_slow</th>\n      <th>EMA_fast</th>\n      <th>RSI</th>\n      <th>ATR</th>\n      <th>BBL_15_1.5</th>\n      <th>BBM_15_1.5</th>\n      <th>BBU_15_1.5</th>\n      <th>BBB_15_1.5</th>\n      <th>BBP_15_1.5</th>\n    </tr>\n    <tr>\n      <th>Gmt time</th>\n      <th></th>\n      <th></th>\n      <th></th>\n      <th></th>\n      <th></th>\n      <th></th>\n      <th></th>\n      <th></th>\n      <th></th>\n      <th></th>\n      <th></th>\n      <th></th>\n      <th></th>\n      <th></th>\n      <th></th>\n      <th></th>\n      <th></th>\n      <th></th>\n    </tr>\n  </thead>\n  <tbody>\n    <tr>\n      <th>2022-05-09 00:05:00</th>\n      <td>2022.05.09</td>\n      <td>00:05:00</td>\n      <td>1.05400</td>\n      <td>1.05425</td>\n      <td>1.05395</td>\n      <td>1.05407</td>\n      <td>34</td>\n      <td>0</td>\n      <td>52</td>\n      <td>NaN</td>\n      <td>NaN</td>\n      <td>NaN</td>\n      <td>NaN</td>\n      <td>NaN</td>\n      <td>NaN</td>\n      <td>NaN</td>\n      <td>NaN</td>\n      <td>NaN</td>\n    </tr>\n    <tr>\n      <th>2022-05-09 00:10:00</th>\n      <td>2022.05.09</td>\n      <td>00:10:00</td>\n      <td>1.05407</td>\n      <td>1.05425</td>\n      <td>1.05403</td>\n      <td>1.05417</td>\n      <td>20</td>\n      <td>0</td>\n      <td>65</td>\n      <td>NaN</td>\n      <td>NaN</td>\n      <td>NaN</td>\n      <td>NaN</td>\n      <td>NaN</td>\n      <td>NaN</td>\n      <td>NaN</td>\n      <td>NaN</td>\n      <td>NaN</td>\n    </tr>\n    <tr>\n      <th>2022-05-09 00:15:00</th>\n      <td>2022.05.09</td>\n      <td>00:15:00</td>\n      <td>1.05418</td>\n      <td>1.05424</td>\n      <td>1.05389</td>\n      <td>1.05420</td>\n      <td>37</td>\n      <td>0</td>\n      <td>13</td>\n      <td>NaN</td>\n      <td>NaN</td>\n      <td>NaN</td>\n      <td>NaN</td>\n      <td>NaN</td>\n      <td>NaN</td>\n      <td>NaN</td>\n      <td>NaN</td>\n      <td>NaN</td>\n    </tr>\n    <tr>\n      <th>2022-05-09 00:20:00</th>\n      <td>2022.05.09</td>\n      <td>00:20:00</td>\n      <td>1.05390</td>\n      <td>1.05424</td>\n      <td>1.05385</td>\n      <td>1.05420</td>\n      <td>26</td>\n      <td>0</td>\n      <td>25</td>\n      <td>NaN</td>\n      <td>NaN</td>\n      <td>NaN</td>\n      <td>NaN</td>\n      <td>NaN</td>\n      <td>NaN</td>\n      <td>NaN</td>\n      <td>NaN</td>\n      <td>NaN</td>\n    </tr>\n    <tr>\n      <th>2022-05-09 00:25:00</th>\n      <td>2022.05.09</td>\n      <td>00:25:00</td>\n      <td>1.05391</td>\n      <td>1.05421</td>\n      <td>1.05387</td>\n      <td>1.05399</td>\n      <td>32</td>\n      <td>0</td>\n      <td>32</td>\n      <td>NaN</td>\n      <td>NaN</td>\n      <td>NaN</td>\n      <td>NaN</td>\n      <td>NaN</td>\n      <td>NaN</td>\n      <td>NaN</td>\n      <td>NaN</td>\n      <td>NaN</td>\n    </tr>\n  </tbody>\n</table>\n</div>"
     },
     "execution_count": 3,
     "metadata": {},
     "output_type": "execute_result"
    }
   ],
   "source": [
    "df.head()"
   ],
   "metadata": {
    "collapsed": false,
    "ExecuteTime": {
     "end_time": "2024-08-17T11:56:19.299955500Z",
     "start_time": "2024-08-17T11:56:19.255122Z"
    }
   }
  },
  {
   "cell_type": "code",
   "execution_count": 4,
   "metadata": {
    "ExecuteTime": {
     "end_time": "2024-08-17T11:58:40.742761300Z",
     "start_time": "2024-08-17T11:56:26.148938800Z"
    }
   },
   "outputs": [
    {
     "name": "stderr",
     "output_type": "stream",
     "text": [
      "100%|██████████| 30207/30207 [02:14<00:00, 224.60it/s]\n"
     ]
    }
   ],
   "source": [
    "def ema_signal(df, current_candle, backcandles):\n",
    "    df_slice = df.reset_index().copy()\n",
    "    # Get the range of candles to consider\n",
    "    start = max(0, current_candle - backcandles)\n",
    "    end = current_candle\n",
    "    relevant_rows = df_slice.iloc[start:end]\n",
    "\n",
    "    # Check if all EMA_fast values are below EMA_slow values\n",
    "    if all(relevant_rows[\"EMA_fast\"] < relevant_rows[\"EMA_slow\"]):\n",
    "        return 1\n",
    "    elif all(relevant_rows[\"EMA_fast\"] > relevant_rows[\"EMA_slow\"]):\n",
    "        return 2\n",
    "    else:\n",
    "        return 0\n",
    "\n",
    "\n",
    "\n",
    "from tqdm import tqdm\n",
    "tqdm.pandas()\n",
    "df.reset_index(inplace=True)\n",
    "df['EMASignal'] = df.progress_apply(lambda row: ema_signal(df, row.name, 7) , axis=1) #if row.name >= 20 else 0"
   ]
  },
  {
   "cell_type": "code",
   "execution_count": 5,
   "metadata": {
    "ExecuteTime": {
     "end_time": "2024-08-17T12:03:37.159240800Z",
     "start_time": "2024-08-17T11:58:41.921159300Z"
    }
   },
   "outputs": [
    {
     "name": "stderr",
     "output_type": "stream",
     "text": [
      "100%|██████████| 30207/30207 [04:55<00:00, 102.32it/s]\n"
     ]
    }
   ],
   "source": [
    "def total_signal(df, current_candle, backcandles):\n",
    "    if (ema_signal(df, current_candle, backcandles)==2\n",
    "        and df.Close[current_candle]<=df['BBL_15_1.5'][current_candle]\n",
    "        #and df.RSI[current_candle]<60\n",
    "        ):\n",
    "            return 2\n",
    "    if (ema_signal(df, current_candle, backcandles)==1\n",
    "        and df.Close[current_candle]>=df['BBU_15_1.5'][current_candle]\n",
    "        #and df.RSI[current_candle]>40\n",
    "        ):\n",
    "    \n",
    "            return 1\n",
    "    return 0\n",
    "        \n",
    "df['TotalSignal'] = df.progress_apply(lambda row: total_signal(df, row.name, 7), axis=1)"
   ]
  },
  {
   "cell_type": "code",
   "execution_count": 12,
   "metadata": {
    "ExecuteTime": {
     "end_time": "2024-08-17T07:00:10.562629100Z",
     "start_time": "2024-08-17T07:00:10.081527300Z"
    }
   },
   "outputs": [
    {
     "ename": "KeyError",
     "evalue": "'pointpos'",
     "output_type": "error",
     "traceback": [
      "\u001B[1;31m---------------------------------------------------------------------------\u001B[0m",
      "\u001B[1;31mKeyError\u001B[0m                                  Traceback (most recent call last)",
      "File \u001B[1;32mE:\\Project\\Farabi\\StockMarketData\\venv\\Lib\\site-packages\\pandas\\core\\indexes\\base.py:3805\u001B[0m, in \u001B[0;36mIndex.get_loc\u001B[1;34m(self, key)\u001B[0m\n\u001B[0;32m   3804\u001B[0m \u001B[38;5;28;01mtry\u001B[39;00m:\n\u001B[1;32m-> 3805\u001B[0m     \u001B[38;5;28;01mreturn\u001B[39;00m \u001B[38;5;28;43mself\u001B[39;49m\u001B[38;5;241;43m.\u001B[39;49m\u001B[43m_engine\u001B[49m\u001B[38;5;241;43m.\u001B[39;49m\u001B[43mget_loc\u001B[49m\u001B[43m(\u001B[49m\u001B[43mcasted_key\u001B[49m\u001B[43m)\u001B[49m\n\u001B[0;32m   3806\u001B[0m \u001B[38;5;28;01mexcept\u001B[39;00m \u001B[38;5;167;01mKeyError\u001B[39;00m \u001B[38;5;28;01mas\u001B[39;00m err:\n",
      "File \u001B[1;32mindex.pyx:167\u001B[0m, in \u001B[0;36mpandas._libs.index.IndexEngine.get_loc\u001B[1;34m()\u001B[0m\n",
      "File \u001B[1;32mindex.pyx:196\u001B[0m, in \u001B[0;36mpandas._libs.index.IndexEngine.get_loc\u001B[1;34m()\u001B[0m\n",
      "File \u001B[1;32mpandas\\\\_libs\\\\hashtable_class_helper.pxi:7081\u001B[0m, in \u001B[0;36mpandas._libs.hashtable.PyObjectHashTable.get_item\u001B[1;34m()\u001B[0m\n",
      "File \u001B[1;32mpandas\\\\_libs\\\\hashtable_class_helper.pxi:7089\u001B[0m, in \u001B[0;36mpandas._libs.hashtable.PyObjectHashTable.get_item\u001B[1;34m()\u001B[0m\n",
      "\u001B[1;31mKeyError\u001B[0m: 'pointpos'",
      "\nThe above exception was the direct cause of the following exception:\n",
      "\u001B[1;31mKeyError\u001B[0m                                  Traceback (most recent call last)",
      "Cell \u001B[1;32mIn[12], line 26\u001B[0m\n\u001B[0;32m      6\u001B[0m \u001B[38;5;66;03m#dfpl.reset_index(inplace=True)\u001B[39;00m\n\u001B[0;32m      7\u001B[0m fig \u001B[38;5;241m=\u001B[39m go\u001B[38;5;241m.\u001B[39mFigure(data\u001B[38;5;241m=\u001B[39m[go\u001B[38;5;241m.\u001B[39mCandlestick(x\u001B[38;5;241m=\u001B[39mdfpl\u001B[38;5;241m.\u001B[39mindex,\n\u001B[0;32m      8\u001B[0m                 \u001B[38;5;28mopen\u001B[39m\u001B[38;5;241m=\u001B[39mdfpl[\u001B[38;5;124m'\u001B[39m\u001B[38;5;124mOpen\u001B[39m\u001B[38;5;124m'\u001B[39m],\n\u001B[0;32m      9\u001B[0m                 high\u001B[38;5;241m=\u001B[39mdfpl[\u001B[38;5;124m'\u001B[39m\u001B[38;5;124mHigh\u001B[39m\u001B[38;5;124m'\u001B[39m],\n\u001B[1;32m   (...)\u001B[0m\n\u001B[0;32m     23\u001B[0m                            line\u001B[38;5;241m=\u001B[39m\u001B[38;5;28mdict\u001B[39m(color\u001B[38;5;241m=\u001B[39m\u001B[38;5;124m'\u001B[39m\u001B[38;5;124mblue\u001B[39m\u001B[38;5;124m'\u001B[39m, width\u001B[38;5;241m=\u001B[39m\u001B[38;5;241m1\u001B[39m), \n\u001B[0;32m     24\u001B[0m                            name\u001B[38;5;241m=\u001B[39m\u001B[38;5;124m\"\u001B[39m\u001B[38;5;124mEMA_slow\u001B[39m\u001B[38;5;124m\"\u001B[39m)])\n\u001B[1;32m---> 26\u001B[0m fig\u001B[38;5;241m.\u001B[39madd_scatter(x\u001B[38;5;241m=\u001B[39mdfpl\u001B[38;5;241m.\u001B[39mindex, y\u001B[38;5;241m=\u001B[39m\u001B[43mdfpl\u001B[49m\u001B[43m[\u001B[49m\u001B[38;5;124;43m'\u001B[39;49m\u001B[38;5;124;43mpointpos\u001B[39;49m\u001B[38;5;124;43m'\u001B[39;49m\u001B[43m]\u001B[49m, mode\u001B[38;5;241m=\u001B[39m\u001B[38;5;124m\"\u001B[39m\u001B[38;5;124mmarkers\u001B[39m\u001B[38;5;124m\"\u001B[39m,\n\u001B[0;32m     27\u001B[0m                 marker\u001B[38;5;241m=\u001B[39m\u001B[38;5;28mdict\u001B[39m(size\u001B[38;5;241m=\u001B[39m\u001B[38;5;241m5\u001B[39m, color\u001B[38;5;241m=\u001B[39m\u001B[38;5;124m\"\u001B[39m\u001B[38;5;124mMediumPurple\u001B[39m\u001B[38;5;124m\"\u001B[39m),\n\u001B[0;32m     28\u001B[0m                 name\u001B[38;5;241m=\u001B[39m\u001B[38;5;124m\"\u001B[39m\u001B[38;5;124mentry\u001B[39m\u001B[38;5;124m\"\u001B[39m)\n\u001B[0;32m     30\u001B[0m fig\u001B[38;5;241m.\u001B[39mshow()\n",
      "File \u001B[1;32mE:\\Project\\Farabi\\StockMarketData\\venv\\Lib\\site-packages\\pandas\\core\\frame.py:4102\u001B[0m, in \u001B[0;36mDataFrame.__getitem__\u001B[1;34m(self, key)\u001B[0m\n\u001B[0;32m   4100\u001B[0m \u001B[38;5;28;01mif\u001B[39;00m \u001B[38;5;28mself\u001B[39m\u001B[38;5;241m.\u001B[39mcolumns\u001B[38;5;241m.\u001B[39mnlevels \u001B[38;5;241m>\u001B[39m \u001B[38;5;241m1\u001B[39m:\n\u001B[0;32m   4101\u001B[0m     \u001B[38;5;28;01mreturn\u001B[39;00m \u001B[38;5;28mself\u001B[39m\u001B[38;5;241m.\u001B[39m_getitem_multilevel(key)\n\u001B[1;32m-> 4102\u001B[0m indexer \u001B[38;5;241m=\u001B[39m \u001B[38;5;28;43mself\u001B[39;49m\u001B[38;5;241;43m.\u001B[39;49m\u001B[43mcolumns\u001B[49m\u001B[38;5;241;43m.\u001B[39;49m\u001B[43mget_loc\u001B[49m\u001B[43m(\u001B[49m\u001B[43mkey\u001B[49m\u001B[43m)\u001B[49m\n\u001B[0;32m   4103\u001B[0m \u001B[38;5;28;01mif\u001B[39;00m is_integer(indexer):\n\u001B[0;32m   4104\u001B[0m     indexer \u001B[38;5;241m=\u001B[39m [indexer]\n",
      "File \u001B[1;32mE:\\Project\\Farabi\\StockMarketData\\venv\\Lib\\site-packages\\pandas\\core\\indexes\\base.py:3812\u001B[0m, in \u001B[0;36mIndex.get_loc\u001B[1;34m(self, key)\u001B[0m\n\u001B[0;32m   3807\u001B[0m     \u001B[38;5;28;01mif\u001B[39;00m \u001B[38;5;28misinstance\u001B[39m(casted_key, \u001B[38;5;28mslice\u001B[39m) \u001B[38;5;129;01mor\u001B[39;00m (\n\u001B[0;32m   3808\u001B[0m         \u001B[38;5;28misinstance\u001B[39m(casted_key, abc\u001B[38;5;241m.\u001B[39mIterable)\n\u001B[0;32m   3809\u001B[0m         \u001B[38;5;129;01mand\u001B[39;00m \u001B[38;5;28many\u001B[39m(\u001B[38;5;28misinstance\u001B[39m(x, \u001B[38;5;28mslice\u001B[39m) \u001B[38;5;28;01mfor\u001B[39;00m x \u001B[38;5;129;01min\u001B[39;00m casted_key)\n\u001B[0;32m   3810\u001B[0m     ):\n\u001B[0;32m   3811\u001B[0m         \u001B[38;5;28;01mraise\u001B[39;00m InvalidIndexError(key)\n\u001B[1;32m-> 3812\u001B[0m     \u001B[38;5;28;01mraise\u001B[39;00m \u001B[38;5;167;01mKeyError\u001B[39;00m(key) \u001B[38;5;28;01mfrom\u001B[39;00m \u001B[38;5;21;01merr\u001B[39;00m\n\u001B[0;32m   3813\u001B[0m \u001B[38;5;28;01mexcept\u001B[39;00m \u001B[38;5;167;01mTypeError\u001B[39;00m:\n\u001B[0;32m   3814\u001B[0m     \u001B[38;5;66;03m# If we have a listlike key, _check_indexing_error will raise\u001B[39;00m\n\u001B[0;32m   3815\u001B[0m     \u001B[38;5;66;03m#  InvalidIndexError. Otherwise we fall through and re-raise\u001B[39;00m\n\u001B[0;32m   3816\u001B[0m     \u001B[38;5;66;03m#  the TypeError.\u001B[39;00m\n\u001B[0;32m   3817\u001B[0m     \u001B[38;5;28mself\u001B[39m\u001B[38;5;241m.\u001B[39m_check_indexing_error(key)\n",
      "\u001B[1;31mKeyError\u001B[0m: 'pointpos'"
     ]
    }
   ],
   "source": [
    "import plotly.graph_objects as go\n",
    "from plotly.subplots import make_subplots\n",
    "from datetime import datetime\n",
    "st=100\n",
    "dfpl = df[st:st+350]\n",
    "#dfpl.reset_index(inplace=True)\n",
    "fig = go.Figure(data=[go.Candlestick(x=dfpl.index,\n",
    "                open=dfpl['Open'],\n",
    "                high=dfpl['High'],\n",
    "                low=dfpl['Low'],\n",
    "                close=dfpl['Close']),\n",
    "\n",
    "                go.Scatter(x=dfpl.index, y=dfpl['BBL_15_1.5'], \n",
    "                           line=dict(color='green', width=1), \n",
    "                           name=\"BBL\"),\n",
    "                go.Scatter(x=dfpl.index, y=dfpl['BBU_15_1.5'], \n",
    "                           line=dict(color='green', width=1), \n",
    "                           name=\"BBU\"),\n",
    "                go.Scatter(x=dfpl.index, y=dfpl['EMA_fast'], \n",
    "                           line=dict(color='black', width=1), \n",
    "                           name=\"EMA_fast\"),\n",
    "                go.Scatter(x=dfpl.index, y=dfpl['EMA_slow'], \n",
    "                           line=dict(color='blue', width=1), \n",
    "                           name=\"EMA_slow\")])\n",
    "\n",
    "fig.add_scatter(x=dfpl.index, y=dfpl['pointpos'], mode=\"markers\",\n",
    "                marker=dict(size=5, color=\"MediumPurple\"),\n",
    "                name=\"entry\")\n",
    "\n",
    "fig.show()"
   ]
  },
  {
   "cell_type": "code",
   "execution_count": 6,
   "metadata": {
    "ExecuteTime": {
     "end_time": "2024-08-17T12:04:49.113384500Z",
     "start_time": "2024-08-17T12:04:49.109859Z"
    }
   },
   "outputs": [],
   "source": [
    "def SIGNAL():\n",
    "    return df.TotalSignal"
   ]
  },
  {
   "cell_type": "code",
   "execution_count": 88,
   "metadata": {
    "ExecuteTime": {
     "end_time": "2024-08-18T13:47:23.040247300Z",
     "start_time": "2024-08-18T13:47:22.024442600Z"
    }
   },
   "outputs": [
    {
     "name": "stderr",
     "output_type": "stream",
     "text": [
      "C:\\Users\\S.Eyvazi\\AppData\\Local\\Temp\\ipykernel_3900\\1747181637.py:31: UserWarning: Data index is not datetime. Assuming simple periods, but `pd.DateTimeIndex` is advised.\n",
      "  bt = Backtest(df, MyStrat, cash=250, margin=1/30)\n"
     ]
    }
   ],
   "source": [
    "from backtesting import Strategy\n",
    "from backtesting import Backtest\n",
    "\n",
    "class MyStrat(Strategy):\n",
    "    mysize = 3000\n",
    "    slcoef = 1.894736\n",
    "    TPSLRatio = 1.05263\n",
    "    rsi_length = 16\n",
    "\n",
    "    def init(self):\n",
    "        super().init()\n",
    "        self.signal1 = self.I(SIGNAL)\n",
    "        #df['RSI']=ta.rsi(df.Close, length=self.rsi_length)\n",
    "\n",
    "    def next(self):\n",
    "        super().next()\n",
    "        slatr = self.slcoef*self.data.ATR[-1]\n",
    "        TPSLRatio = self.TPSLRatio\n",
    "\n",
    "        if self.signal1==2 and len(self.trades)==0:\n",
    "            \n",
    "            sl1 = self.data.Close[-1] - slatr\n",
    "            tp1 = self.data.Close[-1] + slatr*TPSLRatio\n",
    "            self.buy(sl=sl1, tp=tp1, size=self.mysize)\n",
    "\n",
    "        elif self.signal1==1 and len(self.trades)==0:\n",
    "            sl1 = self.data.Close[-1] + slatr\n",
    "            tp1 = self.data.Close[-1] - slatr*TPSLRatio\n",
    "            self.sell(sl=sl1, tp=tp1, size=self.mysize)\n",
    "\n",
    "bt = Backtest(df, MyStrat, cash=250, margin=1/30)\n",
    "bt.run()\n",
    "stats = bt.run()"
   ]
  },
  {
   "cell_type": "code",
   "execution_count": 89,
   "metadata": {
    "ExecuteTime": {
     "end_time": "2024-08-18T13:47:26.624605200Z",
     "start_time": "2024-08-18T13:47:26.612990200Z"
    }
   },
   "outputs": [
    {
     "data": {
      "text/plain": "      Size  EntryBar  ExitBar  EntryPrice  ExitPrice       PnL  ReturnPct  \\\n0    -3000        89       95     1.05157   1.050779  2.371882   0.000752   \n1    -3000       108      116     1.05132   1.050431  2.668435   0.000846   \n2    -3000       122      141     1.05168   1.050195  4.453956   0.001412   \n3     3000       193      199     1.05501   1.053599 -4.234325  -0.001338   \n4     3000       203      224     1.05323   1.054895  4.994198   0.001581   \n...    ...       ...      ...         ...        ...       ...        ...   \n1068  3000     30076    30079     0.97974   0.977872 -5.604353  -0.001907   \n1069 -3000     30106    30106     0.97652   0.974266  6.762704   0.002308   \n1070 -3000     30109    30112     0.97750   0.974265  9.703918   0.003309   \n1071 -3000     30124    30133     0.97746   0.979815 -7.065629  -0.002410   \n1072 -3000     30134    30206     0.97911   0.980250 -3.420000  -0.001164   \n\n      EntryTime  ExitTime  Duration  \n0            89        95         6  \n1           108       116         8  \n2           122       141        19  \n3           193       199         6  \n4           203       224        21  \n...         ...       ...       ...  \n1068      30076     30079         3  \n1069      30106     30106         0  \n1070      30109     30112         3  \n1071      30124     30133         9  \n1072      30134     30206        72  \n\n[1073 rows x 10 columns]",
      "text/html": "<div>\n<style scoped>\n    .dataframe tbody tr th:only-of-type {\n        vertical-align: middle;\n    }\n\n    .dataframe tbody tr th {\n        vertical-align: top;\n    }\n\n    .dataframe thead th {\n        text-align: right;\n    }\n</style>\n<table border=\"1\" class=\"dataframe\">\n  <thead>\n    <tr style=\"text-align: right;\">\n      <th></th>\n      <th>Size</th>\n      <th>EntryBar</th>\n      <th>ExitBar</th>\n      <th>EntryPrice</th>\n      <th>ExitPrice</th>\n      <th>PnL</th>\n      <th>ReturnPct</th>\n      <th>EntryTime</th>\n      <th>ExitTime</th>\n      <th>Duration</th>\n    </tr>\n  </thead>\n  <tbody>\n    <tr>\n      <th>0</th>\n      <td>-3000</td>\n      <td>89</td>\n      <td>95</td>\n      <td>1.05157</td>\n      <td>1.050779</td>\n      <td>2.371882</td>\n      <td>0.000752</td>\n      <td>89</td>\n      <td>95</td>\n      <td>6</td>\n    </tr>\n    <tr>\n      <th>1</th>\n      <td>-3000</td>\n      <td>108</td>\n      <td>116</td>\n      <td>1.05132</td>\n      <td>1.050431</td>\n      <td>2.668435</td>\n      <td>0.000846</td>\n      <td>108</td>\n      <td>116</td>\n      <td>8</td>\n    </tr>\n    <tr>\n      <th>2</th>\n      <td>-3000</td>\n      <td>122</td>\n      <td>141</td>\n      <td>1.05168</td>\n      <td>1.050195</td>\n      <td>4.453956</td>\n      <td>0.001412</td>\n      <td>122</td>\n      <td>141</td>\n      <td>19</td>\n    </tr>\n    <tr>\n      <th>3</th>\n      <td>3000</td>\n      <td>193</td>\n      <td>199</td>\n      <td>1.05501</td>\n      <td>1.053599</td>\n      <td>-4.234325</td>\n      <td>-0.001338</td>\n      <td>193</td>\n      <td>199</td>\n      <td>6</td>\n    </tr>\n    <tr>\n      <th>4</th>\n      <td>3000</td>\n      <td>203</td>\n      <td>224</td>\n      <td>1.05323</td>\n      <td>1.054895</td>\n      <td>4.994198</td>\n      <td>0.001581</td>\n      <td>203</td>\n      <td>224</td>\n      <td>21</td>\n    </tr>\n    <tr>\n      <th>...</th>\n      <td>...</td>\n      <td>...</td>\n      <td>...</td>\n      <td>...</td>\n      <td>...</td>\n      <td>...</td>\n      <td>...</td>\n      <td>...</td>\n      <td>...</td>\n      <td>...</td>\n    </tr>\n    <tr>\n      <th>1068</th>\n      <td>3000</td>\n      <td>30076</td>\n      <td>30079</td>\n      <td>0.97974</td>\n      <td>0.977872</td>\n      <td>-5.604353</td>\n      <td>-0.001907</td>\n      <td>30076</td>\n      <td>30079</td>\n      <td>3</td>\n    </tr>\n    <tr>\n      <th>1069</th>\n      <td>-3000</td>\n      <td>30106</td>\n      <td>30106</td>\n      <td>0.97652</td>\n      <td>0.974266</td>\n      <td>6.762704</td>\n      <td>0.002308</td>\n      <td>30106</td>\n      <td>30106</td>\n      <td>0</td>\n    </tr>\n    <tr>\n      <th>1070</th>\n      <td>-3000</td>\n      <td>30109</td>\n      <td>30112</td>\n      <td>0.97750</td>\n      <td>0.974265</td>\n      <td>9.703918</td>\n      <td>0.003309</td>\n      <td>30109</td>\n      <td>30112</td>\n      <td>3</td>\n    </tr>\n    <tr>\n      <th>1071</th>\n      <td>-3000</td>\n      <td>30124</td>\n      <td>30133</td>\n      <td>0.97746</td>\n      <td>0.979815</td>\n      <td>-7.065629</td>\n      <td>-0.002410</td>\n      <td>30124</td>\n      <td>30133</td>\n      <td>9</td>\n    </tr>\n    <tr>\n      <th>1072</th>\n      <td>-3000</td>\n      <td>30134</td>\n      <td>30206</td>\n      <td>0.97911</td>\n      <td>0.980250</td>\n      <td>-3.420000</td>\n      <td>-0.001164</td>\n      <td>30134</td>\n      <td>30206</td>\n      <td>72</td>\n    </tr>\n  </tbody>\n</table>\n<p>1073 rows × 10 columns</p>\n</div>"
     },
     "execution_count": 89,
     "metadata": {},
     "output_type": "execute_result"
    }
   ],
   "source": [
    "stats._trades"
   ]
  },
  {
   "cell_type": "code",
   "execution_count": 129,
   "outputs": [
    {
     "data": {
      "text/plain": "              Gmt time      <DATE>    <TIME>     Open     High      Low  \\\n87 2022-05-09 07:20:00  2022.05.09  07:20:00  1.05105  1.05127  1.05101   \n\n      Close  <TICKVOL>  <VOL>  <SPREAD>  ...  EMA_fast        RSI       ATR  \\\n87  1.05119        183      0         0  ...  1.051211  54.219837  0.000387   \n\n    BBL_15_1.5  BBM_15_1.5  BBU_15_1.5  BBB_15_1.5  BBP_15_1.5  EMASignal  \\\n87    1.050537    1.050872    1.051207     0.06376    0.974604          1   \n\n    TotalSignal  \n87            0  \n\n[1 rows x 21 columns]",
      "text/html": "<div>\n<style scoped>\n    .dataframe tbody tr th:only-of-type {\n        vertical-align: middle;\n    }\n\n    .dataframe tbody tr th {\n        vertical-align: top;\n    }\n\n    .dataframe thead th {\n        text-align: right;\n    }\n</style>\n<table border=\"1\" class=\"dataframe\">\n  <thead>\n    <tr style=\"text-align: right;\">\n      <th></th>\n      <th>Gmt time</th>\n      <th>&lt;DATE&gt;</th>\n      <th>&lt;TIME&gt;</th>\n      <th>Open</th>\n      <th>High</th>\n      <th>Low</th>\n      <th>Close</th>\n      <th>&lt;TICKVOL&gt;</th>\n      <th>&lt;VOL&gt;</th>\n      <th>&lt;SPREAD&gt;</th>\n      <th>...</th>\n      <th>EMA_fast</th>\n      <th>RSI</th>\n      <th>ATR</th>\n      <th>BBL_15_1.5</th>\n      <th>BBM_15_1.5</th>\n      <th>BBU_15_1.5</th>\n      <th>BBB_15_1.5</th>\n      <th>BBP_15_1.5</th>\n      <th>EMASignal</th>\n      <th>TotalSignal</th>\n    </tr>\n  </thead>\n  <tbody>\n    <tr>\n      <th>87</th>\n      <td>2022-05-09 07:20:00</td>\n      <td>2022.05.09</td>\n      <td>07:20:00</td>\n      <td>1.05105</td>\n      <td>1.05127</td>\n      <td>1.05101</td>\n      <td>1.05119</td>\n      <td>183</td>\n      <td>0</td>\n      <td>0</td>\n      <td>...</td>\n      <td>1.051211</td>\n      <td>54.219837</td>\n      <td>0.000387</td>\n      <td>1.050537</td>\n      <td>1.050872</td>\n      <td>1.051207</td>\n      <td>0.06376</td>\n      <td>0.974604</td>\n      <td>1</td>\n      <td>0</td>\n    </tr>\n  </tbody>\n</table>\n<p>1 rows × 21 columns</p>\n</div>"
     },
     "execution_count": 129,
     "metadata": {},
     "output_type": "execute_result"
    }
   ],
   "source": [
    "df[df.index == 87 ]\n",
    "# df.query('Close == 1.05501' ).head()"
   ],
   "metadata": {
    "collapsed": false,
    "ExecuteTime": {
     "end_time": "2024-08-24T09:49:47.175950400Z",
     "start_time": "2024-08-24T09:49:47.156279300Z"
    }
   }
  },
  {
   "cell_type": "code",
   "execution_count": 91,
   "outputs": [
    {
     "data": {
      "text/plain": "Start                                     0.0\nEnd                                   30206.0\nDuration                              30206.0\nExposure Time [%]                   47.055318\nEquity Final [$]                   393.801495\nEquity Peak [$]                    438.029829\nReturn [%]                          57.520598\nBuy & Hold Return [%]               -7.036535\nReturn (Ann.) [%]                         0.0\nVolatility (Ann.) [%]                     NaN\nSharpe Ratio                              NaN\nSortino Ratio                             NaN\nCalmar Ratio                              0.0\nMax. Drawdown [%]                  -18.280975\nAvg. Drawdown [%]                   -1.781074\nMax. Drawdown Duration                 5322.0\nAvg. Drawdown Duration             234.056911\n# Trades                               1073.0\nWin Rate [%]                        52.469711\nBest Trade [%]                       0.463591\nWorst Trade [%]                     -0.428693\nAvg. Trade [%]                       0.004261\nMax. Trade Duration                     218.0\nAvg. Trade Duration                 12.246971\nProfit Factor                        1.083019\nExpectancy [%]                       0.004337\nSQN                                  1.167443\n_strategy                             MyStrat\n_equity_curve                        Equit...\n_trades                         Size  Entr...\ndtype: object"
     },
     "execution_count": 91,
     "metadata": {},
     "output_type": "execute_result"
    }
   ],
   "source": [
    "bt.run()"
   ],
   "metadata": {
    "collapsed": false,
    "ExecuteTime": {
     "end_time": "2024-08-18T13:47:30.599567Z",
     "start_time": "2024-08-18T13:47:30.092921600Z"
    }
   }
  },
  {
   "cell_type": "code",
   "execution_count": 3,
   "outputs": [
    {
     "name": "stderr",
     "output_type": "stream",
     "text": [
      "C:\\Users\\S.Eyvazi\\AppData\\Local\\Temp\\ipykernel_22660\\3161368335.py:25: SettingWithCopyWarning: \n",
      "A value is trying to be set on a copy of a slice from a DataFrame.\n",
      "Try using .loc[row_indexer,col_indexer] = value instead\n",
      "\n",
      "See the caveats in the documentation: https://pandas.pydata.org/pandas-docs/stable/user_guide/indexing.html#returning-a-view-versus-a-copy\n",
      "  self.df[\"EMA_slow\"]=ta.ema(self.df.Close, length=self.ema_slow_length)\n",
      "C:\\Users\\S.Eyvazi\\AppData\\Local\\Temp\\ipykernel_22660\\3161368335.py:26: SettingWithCopyWarning: \n",
      "A value is trying to be set on a copy of a slice from a DataFrame.\n",
      "Try using .loc[row_indexer,col_indexer] = value instead\n",
      "\n",
      "See the caveats in the documentation: https://pandas.pydata.org/pandas-docs/stable/user_guide/indexing.html#returning-a-view-versus-a-copy\n",
      "  self.df[\"EMA_fast\"]=ta.ema(self.df.Close, length=self.ema_fast_length)\n",
      "C:\\Users\\S.Eyvazi\\AppData\\Local\\Temp\\ipykernel_22660\\3161368335.py:27: SettingWithCopyWarning: \n",
      "A value is trying to be set on a copy of a slice from a DataFrame.\n",
      "Try using .loc[row_indexer,col_indexer] = value instead\n",
      "\n",
      "See the caveats in the documentation: https://pandas.pydata.org/pandas-docs/stable/user_guide/indexing.html#returning-a-view-versus-a-copy\n",
      "  self.df['RSI']=ta.rsi(self.df.Close, length=10)\n",
      "C:\\Users\\S.Eyvazi\\AppData\\Local\\Temp\\ipykernel_22660\\3161368335.py:29: SettingWithCopyWarning: \n",
      "A value is trying to be set on a copy of a slice from a DataFrame.\n",
      "Try using .loc[row_indexer,col_indexer] = value instead\n",
      "\n",
      "See the caveats in the documentation: https://pandas.pydata.org/pandas-docs/stable/user_guide/indexing.html#returning-a-view-versus-a-copy\n",
      "  self.df['ATR']=ta.atr(self.df.High, self.df.Low, self.df.Close, length=7)\n",
      " 14%|█▍        | 4249/29999 [00:15<01:34, 273.61it/s]\n",
      "\n",
      "KeyboardInterrupt\n",
      "\n"
     ]
    }
   ],
   "source": [
    "import pandas as pd\n",
    "import pandas_ta as ta\n",
    "\n",
    "df = pd.read_csv('clean15.csv')\n",
    "df.rename(columns={'datetime' : 'Gmt time', 'close' : 'Close', 'high': 'High', 'open' : 'Open', 'low':'Low'}, inplace=True)\n",
    "# df = pd.read_csv(\"EURUSD_Candlestick_5_M_ASK_30.09.2019-30.09.2022.csv\")\n",
    "df[\"Gmt time\"]=df[\"Gmt time\"].str.replace(\".000\",\"\")\n",
    "df['Gmt time']=pd.to_datetime(df['Gmt time'],format='%Y-%m-%d %H:%M:%S')\n",
    "df=df[df.High!=df.Low]\n",
    "df.set_index(\"Gmt time\", inplace=True)\n",
    "\n",
    "\n",
    "\n",
    "\n",
    "from tqdm import tqdm\n",
    "class ScalpingStrategyBasedEMABollingerBand:\n",
    "    \n",
    "    def __init__(self, df : pd.DataFrame, ema_slow_length : int, ema_fast_length : int, back_candle_no:int, last_candle_num_to_processing:int):\n",
    "        self.ema_slow_length = ema_slow_length \n",
    "        self.ema_fast_length = ema_fast_length\n",
    "        self.back_candle_no = back_candle_no\n",
    "        self.last_candle_num_to_processing = last_candle_num_to_processing\n",
    "        self.df = df[-last_candle_num_to_processing:-1]\n",
    "        \n",
    "        self.df[\"EMA_slow\"]=ta.ema(self.df.Close, length=self.ema_slow_length)\n",
    "        self.df[\"EMA_fast\"]=ta.ema(self.df.Close, length=self.ema_fast_length)\n",
    "        self.df['RSI']=ta.rsi(self.df.Close, length=10)\n",
    "        my_bbands = ta.bbands(self.df.Close, length=15, std=1.5)\n",
    "        self.df['ATR']=ta.atr(self.df.High, self.df.Low, self.df.Close, length=7)\n",
    "        self.df=self.df.join(my_bbands)\n",
    "        self.calculate_ema_signal()\n",
    " \n",
    "\n",
    "    def ema_signal(self,current_candle):\n",
    "        df_slice = self.df.reset_index().copy()\n",
    "        # Get the range of candles to consider\n",
    "        start = max(0, current_candle - self.back_candle_no)\n",
    "        end = current_candle\n",
    "        relevant_rows = df_slice.iloc[start:end]\n",
    "    \n",
    "        # Check if all EMA_fast values are below EMA_slow values\n",
    "        if all(relevant_rows[\"EMA_fast\"] < relevant_rows[\"EMA_slow\"]):\n",
    "            return 1\n",
    "        elif all(relevant_rows[\"EMA_fast\"] > relevant_rows[\"EMA_slow\"]):\n",
    "            return 2\n",
    "        else:\n",
    "            return 0\n",
    "\n",
    "    def calculate_ema_signal(self):\n",
    "        tqdm.pandas()\n",
    "        self.df.reset_index(inplace=True)\n",
    "        self.df['EMASignal'] = self.df.progress_apply(lambda row: self.ema_signal(row.name) , axis=1) #if row.name >= 20 else 0\n",
    "\n",
    "    def total_signal(self,current_candle):\n",
    "        if (self.ema_signal(current_candle)==2\n",
    "                and self.df.Close[current_candle]<=self.df['BBL_15_1.5'][current_candle]\n",
    "        ):\n",
    "            return 2\n",
    "        \n",
    "        if (self.ema_signal(current_candle)==1\n",
    "                and self.df.Close[current_candle]>=self.df['BBU_15_1.5'][current_candle]\n",
    "        ):\n",
    "            return 1\n",
    "        \n",
    "        return 0\n",
    "    \n",
    "    def calc_total_signal(self):\n",
    "        self.df['TotalSignal'] = self.df.progress_apply(lambda row: self.total_signal(row.name), axis=1)\n",
    "        \n",
    "scalping = ScalpingStrategyBasedEMABollingerBand(df,30,50, 10, 30000)\n",
    "scalping.calc_total_signal()"
   ],
   "metadata": {
    "collapsed": false,
    "ExecuteTime": {
     "end_time": "2024-08-10T13:28:32.976627300Z",
     "start_time": "2024-08-10T13:28:15.224196400Z"
    }
   }
  },
  {
   "cell_type": "code",
   "execution_count": 42,
   "outputs": [],
   "source": [
    "def SIGNAL():\n",
    "    return scalping.df.TotalSignal\n",
    "\n",
    "class MyStrat(Strategy):\n",
    "    mysize = 3000\n",
    "    slcoef = 1.894736\n",
    "    TPSLRatio = 1.05263\n",
    "    rsi_length = 16\n",
    "\n",
    "    def init(self):\n",
    "        super().init()\n",
    "        self.signal1 = self.I(SIGNAL)\n",
    "\n",
    "    def next(self):\n",
    "        super().next()\n",
    "        slatr = self.slcoef*self.data.ATR[-1]\n",
    "        TPSLRatio = self.TPSLRatio\n",
    "\n",
    "        if self.signal1==2 and len(self.trades)==0:\n",
    "            sl1 = self.data.Close[-1] - slatr\n",
    "            tp1 = self.data.Close[-1] + slatr*TPSLRatio\n",
    "            self.buy(sl=sl1, tp=tp1, size=self.mysize)\n",
    "\n",
    "        elif self.signal1==1 and len(self.trades)==0:\n",
    "            sl1 = self.data.Close[-1] + slatr\n",
    "            tp1 = self.data.Close[-1] - slatr*TPSLRatio\n",
    "            self.sell(sl=sl1, tp=tp1, size=self.mysize)"
   ],
   "metadata": {
    "collapsed": false,
    "ExecuteTime": {
     "end_time": "2024-08-10T13:14:17.294841300Z",
     "start_time": "2024-08-10T13:14:17.061557Z"
    }
   }
  },
  {
   "cell_type": "code",
   "execution_count": 43,
   "outputs": [
    {
     "name": "stderr",
     "output_type": "stream",
     "text": [
      "C:\\Users\\S.Eyvazi\\AppData\\Local\\Temp\\ipykernel_10248\\2894922998.py:1: UserWarning: Data index is not datetime. Assuming simple periods, but `pd.DateTimeIndex` is advised.\n",
      "  bt = Backtest(scalping.df, MyStrat, cash=250, margin=1/30)\n"
     ]
    },
    {
     "data": {
      "text/plain": "Start                                     0.0\nEnd                                   29998.0\nDuration                              29998.0\nExposure Time [%]                   46.301543\nEquity Final [$]                    399.19517\nEquity Peak [$]                    416.460472\nReturn [%]                          59.678068\nBuy & Hold Return [%]                1.967449\nReturn (Ann.) [%]                         0.0\nVolatility (Ann.) [%]                     NaN\nSharpe Ratio                              NaN\nSortino Ratio                             NaN\nCalmar Ratio                              0.0\nMax. Drawdown [%]                  -24.394674\nAvg. Drawdown [%]                   -1.262427\nMax. Drawdown Duration                 9571.0\nAvg. Drawdown Duration             189.219178\n# Trades                               1188.0\nWin Rate [%]                        51.178451\nBest Trade [%]                        0.45531\nWorst Trade [%]                     -0.465502\nAvg. Trade [%]                       0.003764\nMax. Trade Duration                     484.0\nAvg. Trade Duration                 10.691919\nProfit Factor                        1.091063\nExpectancy [%]                       0.003823\nSQN                                  1.210079\n_strategy                             MyStrat\n_equity_curve                       Equity...\n_trades                         Size  Entr...\ndtype: object"
     },
     "execution_count": 43,
     "metadata": {},
     "output_type": "execute_result"
    }
   ],
   "source": [
    "\n",
    "bt = Backtest(scalping.df, MyStrat, cash=250, margin=1/30)\n",
    "bt.run()"
   ],
   "metadata": {
    "collapsed": false,
    "ExecuteTime": {
     "end_time": "2024-08-10T13:14:18.827248200Z",
     "start_time": "2024-08-10T13:14:18.243214100Z"
    }
   }
  },
  {
   "cell_type": "code",
   "execution_count": 25,
   "outputs": [
    {
     "data": {
      "text/plain": "array([0. , 0.1, 0.2, 0.3, 0.4, 0.5, 0.6, 0.7, 0.8, 0.9, 1. , 1.1, 1.2,\n       1.3, 1.4, 1.5, 1.6, 1.7, 1.8, 1.9, 2. , 2.1, 2.2, 2.3, 2.4, 2.5,\n       2.6, 2.7, 2.8, 2.9])"
     },
     "execution_count": 25,
     "metadata": {},
     "output_type": "execute_result"
    }
   ],
   "source": [
    "import numpy as np \n",
    "a = np.arange(0,3, .1)\n",
    "a\n",
    "\n",
    "\n"
   ],
   "metadata": {
    "collapsed": false,
    "ExecuteTime": {
     "end_time": "2024-08-17T04:58:03.175197300Z",
     "start_time": "2024-08-17T04:58:02.926920200Z"
    }
   }
  },
  {
   "cell_type": "code",
   "execution_count": 130,
   "outputs": [
    {
     "data": {
      "text/plain": "                 Gmt time      <DATE>    <TIME>     Open     High      Low  \\\n0     2022-05-09 00:05:00  2022.05.09  00:05:00  1.05400  1.05425  1.05395   \n1     2022-05-09 00:10:00  2022.05.09  00:10:00  1.05407  1.05425  1.05403   \n2     2022-05-09 00:15:00  2022.05.09  00:15:00  1.05418  1.05424  1.05389   \n3     2022-05-09 00:20:00  2022.05.09  00:20:00  1.05390  1.05424  1.05385   \n4     2022-05-09 00:25:00  2022.05.09  00:25:00  1.05391  1.05421  1.05387   \n...                   ...         ...       ...      ...      ...      ...   \n30202 2022-09-30 23:30:00  2022.09.30  23:30:00  0.98080  0.98080  0.98022   \n30203 2022-09-30 23:35:00  2022.09.30  23:35:00  0.98023  0.98027  0.97993   \n30204 2022-09-30 23:40:00  2022.09.30  23:40:00  0.98012  0.98036  0.97998   \n30205 2022-09-30 23:45:00  2022.09.30  23:45:00  0.98017  0.98029  0.98013   \n30206 2022-09-30 23:50:00  2022.09.30  23:50:00  0.98025  0.98054  0.97981   \n\n         Close  <TICKVOL>  <VOL>  <SPREAD>  ...  EMA_fast        RSI  \\\n0      1.05407         34      0        52  ...       NaN        NaN   \n1      1.05417         20      0        65  ...       NaN        NaN   \n2      1.05420         37      0        13  ...       NaN        NaN   \n3      1.05420         26      0        25  ...       NaN        NaN   \n4      1.05399         32      0        32  ...       NaN        NaN   \n...        ...        ...    ...       ...  ...       ...        ...   \n30202  0.98022        214      0         3  ...  0.980138  47.769485   \n30203  0.98011        159      0         7  ...  0.980136  45.531832   \n30204  0.98021        101      0         3  ...  0.980141  47.992608   \n30205  0.98025         88      0         3  ...  0.980148  49.016320   \n30206  0.97990        329      0         3  ...  0.980132  41.142749   \n\n            ATR  BBL_15_1.5  BBM_15_1.5  BBU_15_1.5  BBB_15_1.5  BBP_15_1.5  \\\n0           NaN         NaN         NaN         NaN         NaN         NaN   \n1           NaN         NaN         NaN         NaN         NaN         NaN   \n2           NaN         NaN         NaN         NaN         NaN         NaN   \n3           NaN         NaN         NaN         NaN         NaN         NaN   \n4           NaN         NaN         NaN         NaN         NaN         NaN   \n...         ...         ...         ...         ...         ...         ...   \n30202  0.000448    0.979621    0.980239    0.980856    0.125924    0.484877   \n30203  0.000433    0.979720    0.980276    0.980832    0.113433    0.350714   \n30204  0.000425    0.979768    0.980299    0.980831    0.108454    0.415975   \n30205  0.000387    0.979893    0.980343    0.980794    0.091945    0.396455   \n30206  0.000436    0.979916    0.980350    0.980784    0.088508   -0.018620   \n\n       EMASignal  TotalSignal  \n0              1            0  \n1              0            0  \n2              0            0  \n3              0            0  \n4              0            0  \n...          ...          ...  \n30202          2            0  \n30203          2            0  \n30204          2            0  \n30205          2            0  \n30206          2            2  \n\n[30207 rows x 21 columns]",
      "text/html": "<div>\n<style scoped>\n    .dataframe tbody tr th:only-of-type {\n        vertical-align: middle;\n    }\n\n    .dataframe tbody tr th {\n        vertical-align: top;\n    }\n\n    .dataframe thead th {\n        text-align: right;\n    }\n</style>\n<table border=\"1\" class=\"dataframe\">\n  <thead>\n    <tr style=\"text-align: right;\">\n      <th></th>\n      <th>Gmt time</th>\n      <th>&lt;DATE&gt;</th>\n      <th>&lt;TIME&gt;</th>\n      <th>Open</th>\n      <th>High</th>\n      <th>Low</th>\n      <th>Close</th>\n      <th>&lt;TICKVOL&gt;</th>\n      <th>&lt;VOL&gt;</th>\n      <th>&lt;SPREAD&gt;</th>\n      <th>...</th>\n      <th>EMA_fast</th>\n      <th>RSI</th>\n      <th>ATR</th>\n      <th>BBL_15_1.5</th>\n      <th>BBM_15_1.5</th>\n      <th>BBU_15_1.5</th>\n      <th>BBB_15_1.5</th>\n      <th>BBP_15_1.5</th>\n      <th>EMASignal</th>\n      <th>TotalSignal</th>\n    </tr>\n  </thead>\n  <tbody>\n    <tr>\n      <th>0</th>\n      <td>2022-05-09 00:05:00</td>\n      <td>2022.05.09</td>\n      <td>00:05:00</td>\n      <td>1.05400</td>\n      <td>1.05425</td>\n      <td>1.05395</td>\n      <td>1.05407</td>\n      <td>34</td>\n      <td>0</td>\n      <td>52</td>\n      <td>...</td>\n      <td>NaN</td>\n      <td>NaN</td>\n      <td>NaN</td>\n      <td>NaN</td>\n      <td>NaN</td>\n      <td>NaN</td>\n      <td>NaN</td>\n      <td>NaN</td>\n      <td>1</td>\n      <td>0</td>\n    </tr>\n    <tr>\n      <th>1</th>\n      <td>2022-05-09 00:10:00</td>\n      <td>2022.05.09</td>\n      <td>00:10:00</td>\n      <td>1.05407</td>\n      <td>1.05425</td>\n      <td>1.05403</td>\n      <td>1.05417</td>\n      <td>20</td>\n      <td>0</td>\n      <td>65</td>\n      <td>...</td>\n      <td>NaN</td>\n      <td>NaN</td>\n      <td>NaN</td>\n      <td>NaN</td>\n      <td>NaN</td>\n      <td>NaN</td>\n      <td>NaN</td>\n      <td>NaN</td>\n      <td>0</td>\n      <td>0</td>\n    </tr>\n    <tr>\n      <th>2</th>\n      <td>2022-05-09 00:15:00</td>\n      <td>2022.05.09</td>\n      <td>00:15:00</td>\n      <td>1.05418</td>\n      <td>1.05424</td>\n      <td>1.05389</td>\n      <td>1.05420</td>\n      <td>37</td>\n      <td>0</td>\n      <td>13</td>\n      <td>...</td>\n      <td>NaN</td>\n      <td>NaN</td>\n      <td>NaN</td>\n      <td>NaN</td>\n      <td>NaN</td>\n      <td>NaN</td>\n      <td>NaN</td>\n      <td>NaN</td>\n      <td>0</td>\n      <td>0</td>\n    </tr>\n    <tr>\n      <th>3</th>\n      <td>2022-05-09 00:20:00</td>\n      <td>2022.05.09</td>\n      <td>00:20:00</td>\n      <td>1.05390</td>\n      <td>1.05424</td>\n      <td>1.05385</td>\n      <td>1.05420</td>\n      <td>26</td>\n      <td>0</td>\n      <td>25</td>\n      <td>...</td>\n      <td>NaN</td>\n      <td>NaN</td>\n      <td>NaN</td>\n      <td>NaN</td>\n      <td>NaN</td>\n      <td>NaN</td>\n      <td>NaN</td>\n      <td>NaN</td>\n      <td>0</td>\n      <td>0</td>\n    </tr>\n    <tr>\n      <th>4</th>\n      <td>2022-05-09 00:25:00</td>\n      <td>2022.05.09</td>\n      <td>00:25:00</td>\n      <td>1.05391</td>\n      <td>1.05421</td>\n      <td>1.05387</td>\n      <td>1.05399</td>\n      <td>32</td>\n      <td>0</td>\n      <td>32</td>\n      <td>...</td>\n      <td>NaN</td>\n      <td>NaN</td>\n      <td>NaN</td>\n      <td>NaN</td>\n      <td>NaN</td>\n      <td>NaN</td>\n      <td>NaN</td>\n      <td>NaN</td>\n      <td>0</td>\n      <td>0</td>\n    </tr>\n    <tr>\n      <th>...</th>\n      <td>...</td>\n      <td>...</td>\n      <td>...</td>\n      <td>...</td>\n      <td>...</td>\n      <td>...</td>\n      <td>...</td>\n      <td>...</td>\n      <td>...</td>\n      <td>...</td>\n      <td>...</td>\n      <td>...</td>\n      <td>...</td>\n      <td>...</td>\n      <td>...</td>\n      <td>...</td>\n      <td>...</td>\n      <td>...</td>\n      <td>...</td>\n      <td>...</td>\n      <td>...</td>\n    </tr>\n    <tr>\n      <th>30202</th>\n      <td>2022-09-30 23:30:00</td>\n      <td>2022.09.30</td>\n      <td>23:30:00</td>\n      <td>0.98080</td>\n      <td>0.98080</td>\n      <td>0.98022</td>\n      <td>0.98022</td>\n      <td>214</td>\n      <td>0</td>\n      <td>3</td>\n      <td>...</td>\n      <td>0.980138</td>\n      <td>47.769485</td>\n      <td>0.000448</td>\n      <td>0.979621</td>\n      <td>0.980239</td>\n      <td>0.980856</td>\n      <td>0.125924</td>\n      <td>0.484877</td>\n      <td>2</td>\n      <td>0</td>\n    </tr>\n    <tr>\n      <th>30203</th>\n      <td>2022-09-30 23:35:00</td>\n      <td>2022.09.30</td>\n      <td>23:35:00</td>\n      <td>0.98023</td>\n      <td>0.98027</td>\n      <td>0.97993</td>\n      <td>0.98011</td>\n      <td>159</td>\n      <td>0</td>\n      <td>7</td>\n      <td>...</td>\n      <td>0.980136</td>\n      <td>45.531832</td>\n      <td>0.000433</td>\n      <td>0.979720</td>\n      <td>0.980276</td>\n      <td>0.980832</td>\n      <td>0.113433</td>\n      <td>0.350714</td>\n      <td>2</td>\n      <td>0</td>\n    </tr>\n    <tr>\n      <th>30204</th>\n      <td>2022-09-30 23:40:00</td>\n      <td>2022.09.30</td>\n      <td>23:40:00</td>\n      <td>0.98012</td>\n      <td>0.98036</td>\n      <td>0.97998</td>\n      <td>0.98021</td>\n      <td>101</td>\n      <td>0</td>\n      <td>3</td>\n      <td>...</td>\n      <td>0.980141</td>\n      <td>47.992608</td>\n      <td>0.000425</td>\n      <td>0.979768</td>\n      <td>0.980299</td>\n      <td>0.980831</td>\n      <td>0.108454</td>\n      <td>0.415975</td>\n      <td>2</td>\n      <td>0</td>\n    </tr>\n    <tr>\n      <th>30205</th>\n      <td>2022-09-30 23:45:00</td>\n      <td>2022.09.30</td>\n      <td>23:45:00</td>\n      <td>0.98017</td>\n      <td>0.98029</td>\n      <td>0.98013</td>\n      <td>0.98025</td>\n      <td>88</td>\n      <td>0</td>\n      <td>3</td>\n      <td>...</td>\n      <td>0.980148</td>\n      <td>49.016320</td>\n      <td>0.000387</td>\n      <td>0.979893</td>\n      <td>0.980343</td>\n      <td>0.980794</td>\n      <td>0.091945</td>\n      <td>0.396455</td>\n      <td>2</td>\n      <td>0</td>\n    </tr>\n    <tr>\n      <th>30206</th>\n      <td>2022-09-30 23:50:00</td>\n      <td>2022.09.30</td>\n      <td>23:50:00</td>\n      <td>0.98025</td>\n      <td>0.98054</td>\n      <td>0.97981</td>\n      <td>0.97990</td>\n      <td>329</td>\n      <td>0</td>\n      <td>3</td>\n      <td>...</td>\n      <td>0.980132</td>\n      <td>41.142749</td>\n      <td>0.000436</td>\n      <td>0.979916</td>\n      <td>0.980350</td>\n      <td>0.980784</td>\n      <td>0.088508</td>\n      <td>-0.018620</td>\n      <td>2</td>\n      <td>2</td>\n    </tr>\n  </tbody>\n</table>\n<p>30207 rows × 21 columns</p>\n</div>"
     },
     "execution_count": 130,
     "metadata": {},
     "output_type": "execute_result"
    }
   ],
   "source": [
    "df"
   ],
   "metadata": {
    "collapsed": false,
    "ExecuteTime": {
     "end_time": "2024-08-24T10:39:06.475511900Z",
     "start_time": "2024-08-24T10:39:06.450573500Z"
    }
   }
  },
  {
   "cell_type": "code",
   "execution_count": null,
   "outputs": [],
   "source": [],
   "metadata": {
    "collapsed": false
   }
  }
 ],
 "metadata": {
  "kernelspec": {
   "display_name": "Python 3.10.8 64-bit",
   "language": "python",
   "name": "python3"
  },
  "language_info": {
   "codemirror_mode": {
    "name": "ipython",
    "version": 3
   },
   "file_extension": ".py",
   "mimetype": "text/x-python",
   "name": "python",
   "nbconvert_exporter": "python",
   "pygments_lexer": "ipython3",
   "version": "3.11.4"
  },
  "vscode": {
   "interpreter": {
    "hash": "c0ff92a541b5eb8a0f75470c34280cf0dea79e8b819847822bd36e33345fddf3"
   }
  }
 },
 "nbformat": 4,
 "nbformat_minor": 2
}
