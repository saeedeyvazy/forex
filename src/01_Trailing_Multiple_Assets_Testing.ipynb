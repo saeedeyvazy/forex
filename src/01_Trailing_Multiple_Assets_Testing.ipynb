{
 "cells": [
  {
   "cell_type": "markdown",
   "metadata": {},
   "source": [
    "### 1 - Import test data"
   ]
  },
  {
   "cell_type": "code",
   "execution_count": 2,
   "metadata": {},
   "outputs": [],
   "source": [
    "import pandas as pd\n",
    "import pandas_ta as ta\n",
    "from tqdm import tqdm\n",
    "import os\n",
    "tqdm.pandas()\n",
    "\n",
    "def read_csv_to_dataframe(file_path):\n",
    "    df = pd.read_csv(file_path)\n",
    "    df[\"Gmt time\"] = df[\"Gmt time\"].str.replace(\".000\", \"\")\n",
    "    df['Gmt time'] = pd.to_datetime(df['Gmt time'], format='%d.%m.%Y %H:%M:%S')\n",
    "    df = df[df.High != df.Low]\n",
    "    df.set_index(\"Gmt time\", inplace=True)\n",
    "    return df\n",
    "\n",
    "def read_data_folder(folder_path=\"./data\"):\n",
    "    dataframes = []\n",
    "    file_names = []\n",
    "    for file_name in tqdm(os.listdir(folder_path)):\n",
    "        if file_name.endswith('.csv'):\n",
    "            file_path = os.path.join(folder_path, file_name)\n",
    "            df = read_csv_to_dataframe(file_path)\n",
    "            dataframes.append(df)\n",
    "            file_names.append(file_name)\n",
    "    return dataframes, file_names\n",
    "\n",
    "def apply_technical_indicators(df):\n",
    "    df[\"EMA_slow\"] = ta.ema(df.Close, length=200)\n",
    "    df[\"EMA_fast\"] = ta.ema(df.Close, length=100)\n",
    "    df['RSI'] = ta.rsi(df.Close, length=14)\n",
    "    my_bbands = ta.bbands(df.Close, length=20, std=2.0)\n",
    "    df['ATR'] = ta.atr(df.High, df.Low, df.Close, length=10)\n",
    "    df = df.join(my_bbands)\n",
    "    return df\n",
    "\n",
    "def ema_signal(df, current_candle, backcandles):\n",
    "    df_slice = df.reset_index().copy()\n",
    "    # Get the range of candles to consider\n",
    "    start = max(0, current_candle - backcandles)\n",
    "    end = current_candle\n",
    "    relevant_rows = df_slice.iloc[start:end]\n",
    "\n",
    "    # Check if all EMA_fast values are below EMA_slow values\n",
    "    if all(relevant_rows[\"EMA_fast\"] < relevant_rows[\"EMA_slow\"]):\n",
    "        return 1\n",
    "    elif all(relevant_rows[\"EMA_fast\"] > relevant_rows[\"EMA_slow\"]):\n",
    "        return 2\n",
    "    else:\n",
    "        return 0\n",
    "    \n",
    "def update_dataframe_ema_signal(df):\n",
    "    df.reset_index(inplace=True)\n",
    "    df['EMASignal'] = df.progress_apply(lambda row: ema_signal(df, row.name, 7) if row.name >= 20 else 0, axis=1)\n",
    "    return df\n",
    "\n",
    "def total_signal(df, current_candle, backcandles):\n",
    "    c_BB_width =  (abs(df['BBL_20_2.0'][current_candle] - df['BBU_20_2.0'][current_candle]) / df['BBL_20_2.0'][current_candle]) > 0.0015\n",
    "    if (ema_signal(df, current_candle, backcandles)==2\n",
    "        and df.Close[current_candle]<=df['BBL_20_2.0'][current_candle]\n",
    "        and c_BB_width\n",
    "        and all(df.iloc[current_candle-backcandles:current_candle][\"RSI\"] >= 30)\n",
    "        ):\n",
    "            return 2\n",
    "    if (ema_signal(df, current_candle, backcandles)==1\n",
    "        and df.Close[current_candle]>=df['BBU_20_2.0'][current_candle]\n",
    "        and c_BB_width\n",
    "        and all(df.iloc[current_candle-backcandles:current_candle][\"RSI\"] <= 70)\n",
    "        ):\n",
    "    \n",
    "            return 1\n",
    "    return 0\n",
    "\n",
    "def add_total_signal(df):\n",
    "    df['TotalSignal'] = df.progress_apply(lambda row: total_signal(df, row.name, 7), axis=1)\n",
    "    return df\n",
    "\n",
    "def candles_trend_signal(df, current_candle, backcandles):\n",
    "    \"\"\"\n",
    "    This function calculates the total signal based on the following criteria:\n",
    "    - If the previous 'backcandles' candles are all above the corresponding EMA values, it returns 2 (bullish).\n",
    "    - If the previous 'backcandles' candles are all below the corresponding EMA values, it returns 1 (bearish).\n",
    "    - Otherwise, it returns 0 (neutral).\n",
    "    \n",
    "    Parameters:\n",
    "    df (DataFrame): DataFrame containing the stock data with 'High', 'Low', and 'EMA_fast' columns.\n",
    "    current_candle (int): The index of the current candle.\n",
    "    backcandles (int): The number of previous candles to check.\n",
    "    \n",
    "    Returns:\n",
    "    int: Signal value (2 for bullish, 1 for bearish, 0 for neutral).\n",
    "    \"\"\"\n",
    "    bullish = True\n",
    "    bearish = True\n",
    "\n",
    "    for i in range(current_candle - backcandles, current_candle+1):\n",
    "        if i < 0:\n",
    "            return 0  # Not enough data to evaluate\n",
    "        \n",
    "        if df.High[i] <= df['EMA_fast'][i] or df.Low[i] <= df['EMA_fast'][i]:\n",
    "            bullish = False\n",
    "        \n",
    "        if df.High[i] >= df['EMA_fast'][i] or df.Low[i] >= df['EMA_fast'][i]:\n",
    "            bearish = False\n",
    "\n",
    "    if bullish:\n",
    "        return 2\n",
    "    if bearish:\n",
    "        return 1\n",
    "    return 0\n",
    "\n",
    "def update_total_signal(df, backcandles=5):\n",
    "    # Calculate signal for all candles\n",
    "    df['candle_trend_signal'] = [candles_trend_signal(df, x, backcandles=backcandles) if x >= backcandles else 0 for x in tqdm(df.index)]\n",
    "    df['TotalSignal'] = df.apply(lambda row: row['TotalSignal'] if row['TotalSignal'] == row['candle_trend_signal'] else 0, axis=1)\n",
    "    return df"
   ]
  },
  {
   "cell_type": "code",
   "execution_count": 3,
   "metadata": {},
   "outputs": [
    {
     "name": "stderr",
     "output_type": "stream",
     "text": [
      "100%|██████████| 7/7 [00:00<00:00, 49.84it/s]\n"
     ]
    }
   ],
   "source": [
    "ldf, names = read_data_folder()"
   ]
  },
  {
   "cell_type": "code",
   "execution_count": 4,
   "metadata": {},
   "outputs": [
    {
     "data": {
      "text/plain": [
       "['AUDUSD_Candlestick_1_D_BID_06.06.2017-15.06.2024.csv',\n",
       " 'EURUSD_Candlestick_1_D_BID_06.06.2017-15.06.2024.csv',\n",
       " 'GBPUSD_Candlestick_1_D_BID_06.06.2017-15.06.2024.csv',\n",
       " 'NZDUSD_Candlestick_1_D_BID_06.06.2017-15.06.2024.csv',\n",
       " 'USDCHF_Candlestick_1_D_BID_06.06.2017-15.06.2024.csv',\n",
       " 'USDJPY_Candlestick_1_D_BID_06.06.2017-15.06.2024.csv',\n",
       " 'XAUUSD_Candlestick_1_D_BID_06.06.2017-15.06.2024.csv']"
      ]
     },
     "execution_count": 4,
     "metadata": {},
     "output_type": "execute_result"
    }
   ],
   "source": [
    "names"
   ]
  },
  {
   "cell_type": "code",
   "execution_count": 5,
   "metadata": {},
   "outputs": [
    {
     "name": "stderr",
     "output_type": "stream",
     "text": [
      "100%|██████████| 7/7 [00:00<00:00, 118.96it/s]\n"
     ]
    },
    {
     "name": "stdout",
     "output_type": "stream",
     "text": [
      "working on dataframe  0 ...\n"
     ]
    },
    {
     "name": "stderr",
     "output_type": "stream",
     "text": [
      "100%|██████████| 2197/2197 [00:00<00:00, 2470.40it/s]\n",
      "100%|██████████| 2197/2197 [00:02<00:00, 1008.05it/s]\n",
      "100%|██████████| 2197/2197 [00:00<00:00, 8428.43it/s]\n"
     ]
    },
    {
     "name": "stdout",
     "output_type": "stream",
     "text": [
      "working on dataframe  1 ...\n"
     ]
    },
    {
     "name": "stderr",
     "output_type": "stream",
     "text": [
      "100%|██████████| 2197/2197 [00:00<00:00, 2439.47it/s]\n",
      "100%|██████████| 2197/2197 [00:02<00:00, 1000.36it/s]\n",
      "100%|██████████| 2197/2197 [00:00<00:00, 8537.63it/s]\n"
     ]
    },
    {
     "name": "stdout",
     "output_type": "stream",
     "text": [
      "working on dataframe  2 ...\n"
     ]
    },
    {
     "name": "stderr",
     "output_type": "stream",
     "text": [
      "100%|██████████| 2196/2196 [00:00<00:00, 2455.89it/s]\n",
      "100%|██████████| 2196/2196 [00:02<00:00, 1001.92it/s]\n",
      "100%|██████████| 2196/2196 [00:00<00:00, 8601.09it/s]\n"
     ]
    },
    {
     "name": "stdout",
     "output_type": "stream",
     "text": [
      "working on dataframe  3 ...\n"
     ]
    },
    {
     "name": "stderr",
     "output_type": "stream",
     "text": [
      "100%|██████████| 2195/2195 [00:00<00:00, 2541.42it/s]\n",
      "100%|██████████| 2195/2195 [00:02<00:00, 1023.92it/s]\n",
      "100%|██████████| 2195/2195 [00:00<00:00, 8563.69it/s]\n"
     ]
    },
    {
     "name": "stdout",
     "output_type": "stream",
     "text": [
      "working on dataframe  4 ...\n"
     ]
    },
    {
     "name": "stderr",
     "output_type": "stream",
     "text": [
      "100%|██████████| 2197/2197 [00:00<00:00, 2440.70it/s]\n",
      "100%|██████████| 2197/2197 [00:02<00:00, 972.85it/s] \n",
      "100%|██████████| 2197/2197 [00:00<00:00, 8604.48it/s]\n"
     ]
    },
    {
     "name": "stdout",
     "output_type": "stream",
     "text": [
      "working on dataframe  5 ...\n"
     ]
    },
    {
     "name": "stderr",
     "output_type": "stream",
     "text": [
      "100%|██████████| 2197/2197 [00:00<00:00, 2427.01it/s]\n",
      "100%|██████████| 2197/2197 [00:02<00:00, 991.48it/s] \n",
      "100%|██████████| 2197/2197 [00:00<00:00, 8760.58it/s]\n"
     ]
    },
    {
     "name": "stdout",
     "output_type": "stream",
     "text": [
      "working on dataframe  6 ...\n"
     ]
    },
    {
     "name": "stderr",
     "output_type": "stream",
     "text": [
      "100%|██████████| 2184/2184 [00:00<00:00, 2409.06it/s]\n",
      "100%|██████████| 2184/2184 [00:02<00:00, 979.34it/s] \n",
      "100%|██████████| 2184/2184 [00:00<00:00, 8487.69it/s]\n"
     ]
    }
   ],
   "source": [
    "folder_path = \"./data\"\n",
    "dataframes, file_names = read_data_folder(folder_path)\n",
    "\n",
    "for i, df in enumerate(dataframes):\n",
    "    print(\"working on dataframe \", i, \"...\")\n",
    "    df = apply_technical_indicators(df)\n",
    "    df = update_dataframe_ema_signal(df)\n",
    "    df = add_total_signal(df)\n",
    "    df = update_total_signal(df)\n",
    "    dataframes[i] = df  # Update the dataframe in the list\n",
    "    "
   ]
  },
  {
   "cell_type": "code",
   "execution_count": 6,
   "metadata": {},
   "outputs": [
    {
     "data": {
      "text/plain": [
       "TotalSignal\n",
       "0    15236\n",
       "1       64\n",
       "2       63\n",
       "Name: count, dtype: int64"
      ]
     },
     "execution_count": 6,
     "metadata": {},
     "output_type": "execute_result"
    }
   ],
   "source": [
    "sum([frame[\"TotalSignal\"].value_counts() for frame in dataframes], start=0)\n"
   ]
  },
  {
   "cell_type": "code",
   "execution_count": 7,
   "metadata": {},
   "outputs": [
    {
     "name": "stderr",
     "output_type": "stream",
     "text": [
      "f:\\Python\\Lib\\site-packages\\tqdm\\auto.py:21: TqdmWarning: IProgress not found. Please update jupyter and ipywidgets. See https://ipywidgets.readthedocs.io/en/stable/user_install.html\n",
      "  from .autonotebook import tqdm as notebook_tqdm\n"
     ]
    }
   ],
   "source": [
    "from backtesting import Strategy\n",
    "from backtesting import Backtest\n",
    "\n",
    "def SIGNAL():\n",
    "    return df.TotalSignal\n",
    "\n",
    "class MyStrat(Strategy):\n",
    "    mysize = 0.1\n",
    "    slcoef = 1\n",
    "    \n",
    "    def init(self):\n",
    "        super().init()\n",
    "        self.signal1 = self.I(SIGNAL)\n",
    "\n",
    "    def next(self):\n",
    "        super().next()\n",
    "        slatr = self.slcoef*self.data.ATR[-1]\n",
    "        \n",
    "        for trade in self.trades: \n",
    "            if trade.is_long: \n",
    "                trade.sl = max(trade.sl or -np.inf, self.data.Close[-1] - slatr)\n",
    "            else:\n",
    "                trade.sl = min(trade.sl or np.inf, self.data.Close[-1] + slatr) \n",
    "\n",
    "        if self.signal1==2 and len(self.trades)==0:\n",
    "            sl1 = self.data.Close[-1] - slatr\n",
    "            self.buy(sl=sl1, size=self.mysize)\n",
    "        \n",
    "        elif self.signal1==1 and len(self.trades)==0:         \n",
    "            sl1 = self.data.Close[-1] + slatr\n",
    "            self.sell(sl=sl1, size=self.mysize)"
   ]
  },
  {
   "cell_type": "code",
   "execution_count": 8,
   "metadata": {},
   "outputs": [
    {
     "name": "stderr",
     "output_type": "stream",
     "text": [
      "C:\\Users\\Public\\Documents\\Wondershare\\CreatorTemp\\ipykernel_8528\\1242261806.py:4: UserWarning: Data index is not datetime. Assuming simple periods, but `pd.DateTimeIndex` is advised.\n",
      "  bt = Backtest(df, MyStrat, cash=2500, margin=1/10, commission=0.0002)\n",
      "C:\\Users\\Public\\Documents\\Wondershare\\CreatorTemp\\ipykernel_8528\\1242261806.py:4: UserWarning: Data index is not datetime. Assuming simple periods, but `pd.DateTimeIndex` is advised.\n",
      "  bt = Backtest(df, MyStrat, cash=2500, margin=1/10, commission=0.0002)\n",
      "C:\\Users\\Public\\Documents\\Wondershare\\CreatorTemp\\ipykernel_8528\\1242261806.py:4: UserWarning: Data index is not datetime. Assuming simple periods, but `pd.DateTimeIndex` is advised.\n",
      "  bt = Backtest(df, MyStrat, cash=2500, margin=1/10, commission=0.0002)\n",
      "C:\\Users\\Public\\Documents\\Wondershare\\CreatorTemp\\ipykernel_8528\\1242261806.py:4: UserWarning: Data index is not datetime. Assuming simple periods, but `pd.DateTimeIndex` is advised.\n",
      "  bt = Backtest(df, MyStrat, cash=2500, margin=1/10, commission=0.0002)\n",
      "C:\\Users\\Public\\Documents\\Wondershare\\CreatorTemp\\ipykernel_8528\\1242261806.py:4: UserWarning: Data index is not datetime. Assuming simple periods, but `pd.DateTimeIndex` is advised.\n",
      "  bt = Backtest(df, MyStrat, cash=2500, margin=1/10, commission=0.0002)\n",
      "C:\\Users\\Public\\Documents\\Wondershare\\CreatorTemp\\ipykernel_8528\\1242261806.py:4: UserWarning: Data index is not datetime. Assuming simple periods, but `pd.DateTimeIndex` is advised.\n",
      "  bt = Backtest(df, MyStrat, cash=2500, margin=1/10, commission=0.0002)\n",
      "C:\\Users\\Public\\Documents\\Wondershare\\CreatorTemp\\ipykernel_8528\\1242261806.py:4: UserWarning: Data index is not datetime. Assuming simple periods, but `pd.DateTimeIndex` is advised.\n",
      "  bt = Backtest(df, MyStrat, cash=2500, margin=1/10, commission=0.0002)\n",
      "                                               \r"
     ]
    }
   ],
   "source": [
    "results = []\n",
    "\n",
    "for df in dataframes:\n",
    "    bt = Backtest(df, MyStrat, cash=2500, margin=1/10, commission=0.0002)\n",
    "    stats, heatmap = bt.optimize(slcoef=[i/10 for i in range(8, 31)],\n",
    "                        maximize='Return [%]', max_tries=3000,\n",
    "                            random_state=0,\n",
    "                            return_heatmap=True)\n",
    "    results.append(stats)"
   ]
  },
  {
   "cell_type": "code",
   "execution_count": 9,
   "metadata": {},
   "outputs": [
    {
     "name": "stdout",
     "output_type": "stream",
     "text": [
      "Aggregated Returns: 43.19%\n",
      "Number of Trades: 80.0\n",
      "Maximum Drawdown: -7.57%\n",
      "Average Drawdown: -1.58%\n",
      "Win Rate: 42.25%\n",
      "Best Trade: 17.53%\n",
      "Worst Trade: -3.32%\n",
      "Average Trade: 0.56%\n",
      "Maximum Trade Duration: 87.0 days\n",
      "Average Trade Duration: 21.78 days\n"
     ]
    }
   ],
   "source": [
    "agg_returns = sum([r[\"Return [%]\"] for r in results])\n",
    "num_trades = sum([r[\"# Trades\"] for r in results])\n",
    "max_drawdown = min([r[\"Max. Drawdown [%]\"] for r in results])\n",
    "avg_drawdown = sum([r[\"Avg. Drawdown [%]\"] for r in results]) / len(results)\n",
    "\n",
    "win_rate = sum([r[\"Win Rate [%]\"] for r in results]) / len(results)\n",
    "best_trade = max([r[\"Best Trade [%]\"] for r in results])\n",
    "worst_trade = min([r[\"Worst Trade [%]\"] for r in results])\n",
    "avg_trade = sum([r[\"Avg. Trade [%]\"] for r in results]) / len(results)\n",
    "max_trade_duration = max([r[\"Max. Trade Duration\"] for r in results])\n",
    "avg_trade_duration = sum([r[\"Avg. Trade Duration\"] for r in results]) / len(results)\n",
    "\n",
    "print(f\"Aggregated Returns: {agg_returns:.2f}%\")\n",
    "print(f\"Number of Trades: {num_trades}\")\n",
    "print(f\"Maximum Drawdown: {max_drawdown:.2f}%\")\n",
    "print(f\"Average Drawdown: {avg_drawdown:.2f}%\")\n",
    "print(f\"Win Rate: {win_rate:.2f}%\")\n",
    "print(f\"Best Trade: {best_trade:.2f}%\")\n",
    "print(f\"Worst Trade: {worst_trade:.2f}%\")\n",
    "print(f\"Average Trade: {avg_trade:.2f}%\")\n",
    "print(f\"Maximum Trade Duration: {max_trade_duration} days\")\n",
    "print(f\"Average Trade Duration: {avg_trade_duration:.2f} days\")\n"
   ]
  },
  {
   "cell_type": "code",
   "execution_count": 10,
   "metadata": {},
   "outputs": [],
   "source": [
    "equity_curves = [stats['_equity_curve']['Equity'] for stats in results]\n",
    "max_length = max(len(equity) for equity in equity_curves)\n",
    "\n",
    "# Pad each equity curve with the last value to match the maximum length\n",
    "padded_equity_curves = []\n",
    "for equity in equity_curves:\n",
    "    last_value = equity.iloc[-1]\n",
    "    padding = [last_value] * (max_length - len(equity))\n",
    "    padded_equity = equity.tolist() + padding\n",
    "    padded_equity_curves.append(padded_equity)\n",
    "\n",
    "equity_df = pd.DataFrame(padded_equity_curves).T"
   ]
  },
  {
   "cell_type": "code",
   "execution_count": 11,
   "metadata": {},
   "outputs": [
    {
     "data": {
      "image/png": "[encoded data removed]",
      "text/plain": [
       "<Figure size 1000x600 with 1 Axes>"
      ]
     },
     "metadata": {},
     "output_type": "display_data"
    }
   ],
   "source": [
    "import matplotlib.pyplot as plt\n",
    "\n",
    "equity_df.plot(kind='line', figsize=(10, 6), legend=False).set_facecolor('black')\n",
    "plt.gca().spines['bottom'].set_color('black')\n",
    "plt.gca().spines['left'].set_color('black')\n",
    "plt.gca().tick_params(axis='x', colors='black')\n",
    "plt.gca().tick_params(axis='y', colors='black')\n",
    "plt.gca().set_facecolor('black')"
   ]
  },
  {
   "cell_type": "code",
   "execution_count": 13,
   "metadata": {},
   "outputs": [
    {
     "data": {
      "text/plain": [
       "[1.6628490285159934,\n",
       " 14.054829639818529,\n",
       " 10.480710235690475,\n",
       " -0.8386670641098862,\n",
       " 1.0186078474524949,\n",
       " 1.827652310775866,\n",
       " 14.980466697095782]"
      ]
     },
     "execution_count": 13,
     "metadata": {},
     "output_type": "execute_result"
    }
   ],
   "source": [
    "[r[\"Return [%]\"] for r in results]"
   ]
  },
  {
   "cell_type": "code",
   "execution_count": 14,
   "metadata": {},
   "outputs": [
    {
     "data": {
      "text/plain": [
       "['AUDUSD_Candlestick_1_D_BID_06.06.2017-15.06.2024.csv',\n",
       " 'EURUSD_Candlestick_1_D_BID_06.06.2017-15.06.2024.csv',\n",
       " 'GBPUSD_Candlestick_1_D_BID_06.06.2017-15.06.2024.csv',\n",
       " 'NZDUSD_Candlestick_1_D_BID_06.06.2017-15.06.2024.csv',\n",
       " 'USDCHF_Candlestick_1_D_BID_06.06.2017-15.06.2024.csv',\n",
       " 'USDJPY_Candlestick_1_D_BID_06.06.2017-15.06.2024.csv',\n",
       " 'XAUUSD_Candlestick_1_D_BID_06.06.2017-15.06.2024.csv']"
      ]
     },
     "execution_count": 14,
     "metadata": {},
     "output_type": "execute_result"
    }
   ],
   "source": [
    "names"
   ]
  },
  {
   "cell_type": "code",
   "execution_count": null,
   "metadata": {},
   "outputs": [],
   "source": []
  }
 ],
 "metadata": {
  "kernelspec": {
   "display_name": "Python 3.10.8 64-bit",
   "language": "python",
   "name": "python3"
  },
  "language_info": {
   "codemirror_mode": {
    "name": "ipython",
    "version": 3
   },
   "file_extension": ".py",
   "mimetype": "text/x-python",
   "name": "python",
   "nbconvert_exporter": "python",
   "pygments_lexer": "ipython3",
   "version": "3.11.4"
  },
  "vscode": {
   "interpreter": {
    "hash": "c0ff92a541b5eb8a0f75470c34280cf0dea79e8b819847822bd36e33345fddf3"
   }
  }
 },
 "nbformat": 4,
 "nbformat_minor": 2
}
